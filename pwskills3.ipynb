{
  "nbformat": 4,
  "nbformat_minor": 0,
  "metadata": {
    "colab": {
      "provenance": []
    },
    "kernelspec": {
      "name": "python3",
      "display_name": "Python 3"
    },
    "language_info": {
      "name": "python"
    }
  },
  "cells": [
    {
      "cell_type": "code",
      "execution_count": 1,
      "metadata": {
        "id": "3Md4SANE01gS"
      },
      "outputs": [],
      "source": [
        "#Q1 yield keyword use to create a function\n",
        "def test1():\n",
        "  return [1,3,5,7,11,13,17,19,23]"
      ]
    },
    {
      "cell_type": "code",
      "source": [
        "test1()"
      ],
      "metadata": {
        "colab": {
          "base_uri": "https://localhost:8080/"
        },
        "id": "ciu9-W-f117e",
        "outputId": "2e34344b-5e30-42a4-c8f0-74aaa74a3dd9"
      },
      "execution_count": 2,
      "outputs": [
        {
          "output_type": "execute_result",
          "data": {
            "text/plain": [
              "[1, 3, 5, 7, 11, 13, 17, 19, 23]"
            ]
          },
          "metadata": {},
          "execution_count": 2
        }
      ]
    },
    {
      "cell_type": "code",
      "source": [
        "#Q4 generator function in apython return a iterator in a sequence of value\n",
        "# yield keyword use to create generator function\n",
        "# example of generator function -\n",
        "def test1_fib(n):\n",
        "  a,b=1,3\n",
        "  for i in range(n):\n",
        "    yield a\n",
        "    a,b = b,a+b"
      ],
      "metadata": {
        "id": "YOjUwgfH15IF"
      },
      "execution_count": 36,
      "outputs": []
    },
    {
      "cell_type": "code",
      "source": [
        "for i in test1_fib(5):\n",
        "  print(i)"
      ],
      "metadata": {
        "colab": {
          "base_uri": "https://localhost:8080/"
        },
        "id": "nGsNkC6k3ZwK",
        "outputId": "6062f36e-1275-49cb-f890-7c7e2cfd9f77"
      },
      "execution_count": 37,
      "outputs": [
        {
          "output_type": "stream",
          "name": "stdout",
          "text": [
            "1\n",
            "3\n",
            "4\n",
            "7\n",
            "11\n"
          ]
        }
      ]
    },
    {
      "cell_type": "code",
      "source": [
        "#Q2 *args are used in some function because of to get desire output  where as **kwargs are use for to get output in key value pair\n",
        "def test1(*arg):\n",
        "  return arg"
      ],
      "metadata": {
        "id": "jQWnKB3z3niZ"
      },
      "execution_count": 22,
      "outputs": []
    },
    {
      "cell_type": "code",
      "source": [
        "test1(56)"
      ],
      "metadata": {
        "colab": {
          "base_uri": "https://localhost:8080/"
        },
        "id": "AHEROSrO5q79",
        "outputId": "d380082b-bc11-4f61-b082-ee867d1562a7"
      },
      "execution_count": 25,
      "outputs": [
        {
          "output_type": "execute_result",
          "data": {
            "text/plain": [
              "(56,)"
            ]
          },
          "metadata": {},
          "execution_count": 25
        }
      ]
    },
    {
      "cell_type": "code",
      "source": [
        "def test2(**kwargs):\n",
        "  return kwargs"
      ],
      "metadata": {
        "id": "fgL1AKPi54tV"
      },
      "execution_count": 26,
      "outputs": []
    },
    {
      "cell_type": "code",
      "source": [
        "test2(a=45,b='avichal')"
      ],
      "metadata": {
        "colab": {
          "base_uri": "https://localhost:8080/"
        },
        "id": "qzhOTrtp6Kc7",
        "outputId": "d55039ee-5a86-4461-b2f1-183599a82352"
      },
      "execution_count": 27,
      "outputs": [
        {
          "output_type": "execute_result",
          "data": {
            "text/plain": [
              "{'a': 45, 'b': 'avichal'}"
            ]
          },
          "metadata": {},
          "execution_count": 27
        }
      ]
    },
    {
      "cell_type": "code",
      "source": [
        "#Q6\n",
        "def test3_fib(n):\n",
        "  a,b=2,3\n",
        "  for i in range(n):\n",
        "    yield a\n",
        "    a,b=b,a+b\n"
      ],
      "metadata": {
        "id": "w59d7KkE6QO4"
      },
      "execution_count": 29,
      "outputs": []
    },
    {
      "cell_type": "code",
      "source": [
        "for i in test3_fib(10):\n",
        "  print(i)\n"
      ],
      "metadata": {
        "colab": {
          "base_uri": "https://localhost:8080/"
        },
        "id": "7Ov7-Odk6eJn",
        "outputId": "4aab2459-f01d-4c27-825a-3cc83a4cc273"
      },
      "execution_count": 30,
      "outputs": [
        {
          "output_type": "stream",
          "name": "stdout",
          "text": [
            "2\n",
            "3\n",
            "5\n",
            "8\n",
            "13\n",
            "21\n",
            "34\n",
            "55\n",
            "89\n",
            "144\n"
          ]
        }
      ]
    },
    {
      "cell_type": "code",
      "source": [
        "#Q7\n",
        "s = 'pwskills'"
      ],
      "metadata": {
        "id": "Ou3kyJW766eB"
      },
      "execution_count": 38,
      "outputs": []
    },
    {
      "cell_type": "code",
      "source": [
        "s=iter(s)"
      ],
      "metadata": {
        "id": "nxaANmju8COj"
      },
      "execution_count": 39,
      "outputs": []
    },
    {
      "cell_type": "code",
      "source": [
        "next(s)"
      ],
      "metadata": {
        "colab": {
          "base_uri": "https://localhost:8080/",
          "height": 36
        },
        "id": "lnlqgxXP8FRs",
        "outputId": "e34eff49-ae63-4556-f1c4-00cfd5e9edb4"
      },
      "execution_count": 40,
      "outputs": [
        {
          "output_type": "execute_result",
          "data": {
            "text/plain": [
              "'p'"
            ],
            "application/vnd.google.colaboratory.intrinsic+json": {
              "type": "string"
            }
          },
          "metadata": {},
          "execution_count": 40
        }
      ]
    },
    {
      "cell_type": "code",
      "source": [
        "next(s)"
      ],
      "metadata": {
        "colab": {
          "base_uri": "https://localhost:8080/",
          "height": 36
        },
        "id": "6C2f5BRi8IyN",
        "outputId": "8e8ff912-43e6-432c-a5f4-5aa4eabac75e"
      },
      "execution_count": 41,
      "outputs": [
        {
          "output_type": "execute_result",
          "data": {
            "text/plain": [
              "'w'"
            ],
            "application/vnd.google.colaboratory.intrinsic+json": {
              "type": "string"
            }
          },
          "metadata": {},
          "execution_count": 41
        }
      ]
    },
    {
      "cell_type": "code",
      "source": [
        "# Q3 iterator are object which allow to trasverse all elementof collection and return one element at a time\n",
        "iter() as a method used for iteration\n",
        "def test5_fib(n):\n",
        "  a,b=2,2\n",
        "  for i in range(n):\n",
        "    yield a\n",
        "    a,b=b,a+b"
      ],
      "metadata": {
        "id": "Tps-ASo88Kzo"
      },
      "execution_count": 58,
      "outputs": []
    },
    {
      "cell_type": "code",
      "source": [
        "for i in test5_fib(5):\n",
        "  print(i)"
      ],
      "metadata": {
        "colab": {
          "base_uri": "https://localhost:8080/"
        },
        "id": "e2gWNzK29Rf5",
        "outputId": "fabe9b65-9f60-46dc-8202-7ad04dad875d"
      },
      "execution_count": 59,
      "outputs": [
        {
          "output_type": "stream",
          "name": "stdout",
          "text": [
            "2\n",
            "2\n",
            "4\n",
            "6\n",
            "10\n"
          ]
        }
      ]
    },
    {
      "cell_type": "code",
      "source": [
        "#Q5\n",
        "def Prime_seq(num):\n",
        "    for i in range(2,num):\n",
        "        if prime(i) == True:\n",
        "            print(i,end = \" \")\n",
        "        else:\n",
        "            pass\n",
        "\n",
        "num = int(input(\"Enter the range: \"))\n",
        "prime = lambda num: all( num%x != 0 for x in range(2, int(num**.5)+1) )\n",
        "Prime_seq(num)"
      ],
      "metadata": {
        "colab": {
          "base_uri": "https://localhost:8080/"
        },
        "id": "DHDnfX-Z9ZUK",
        "outputId": "392d36f0-6b55-4dcc-b8bd-10083101974e"
      },
      "execution_count": 60,
      "outputs": [
        {
          "output_type": "stream",
          "name": "stdout",
          "text": [
            "Enter the range: 20\n",
            "2 3 5 7 11 13 17 19 "
          ]
        }
      ]
    },
    {
      "cell_type": "code",
      "source": [
        "#Q8\n",
        "num=int(input(\"Enter a number:\"))\n",
        "temp=num\n",
        "rev=0\n",
        "while(num>0):\n",
        "    dig=num%10\n",
        "    rev=rev*10+dig\n",
        "    num=num//10\n",
        "if(temp==rev):\n",
        "    print(\"The number is palindrome!\")\n",
        "else:\n",
        "    print(\"Not a palindrome!\")\n",
        ""
      ],
      "metadata": {
        "colab": {
          "base_uri": "https://localhost:8080/"
        },
        "id": "XEo1RhQRBN4k",
        "outputId": "5b6f7f34-bfd4-4ec6-99a9-02e935e2fc2e"
      },
      "execution_count": 62,
      "outputs": [
        {
          "output_type": "stream",
          "name": "stdout",
          "text": [
            "Enter a number:121\n",
            "The number is palindrome!\n"
          ]
        }
      ]
    },
    {
      "cell_type": "code",
      "source": [],
      "metadata": {
        "id": "QHxu8T4NC7pr"
      },
      "execution_count": null,
      "outputs": []
    }
  ]
}